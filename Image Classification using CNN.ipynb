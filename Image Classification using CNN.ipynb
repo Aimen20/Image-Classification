{
 "cells": [
  {
   "cell_type": "markdown",
   "id": "c14a79a3",
   "metadata": {},
   "source": [
    "Importing Libraries"
   ]
  },
  {
   "cell_type": "code",
   "execution_count": 104,
   "id": "bb1dc6cf",
   "metadata": {},
   "outputs": [],
   "source": [
    "import tensorflow as tf\n",
    "import numpy as np\n",
    "from tensorflow import keras\n",
    "from tensorflow.keras import datasets\n",
    "from keras.layers import Dense\n",
    "from sklearn.metrics import confusion_matrix\n",
    "import seaborn as sns\n",
    "from keras import Sequential, optimizers\n",
    "import matplotlib.pyplot as plt\n",
    "from sklearn.model_selection import train_test_split\n",
    "from tensorflow.keras.models import Sequential\n",
    "from tensorflow.keras.layers import Conv2D, MaxPooling2D, Dense, Flatten"
   ]
  },
  {
   "cell_type": "markdown",
   "id": "99d53baf",
   "metadata": {},
   "source": [
    "Loading Dataset. The Keras cifar10 has 10 small images dataset which are labelled as:\n",
    "<br>\n",
    "\n",
    "<br>\n",
    "0\tairplane\n",
    "<br>\n",
    "1\tautomobile\n",
    "<br>\n",
    "2\tbird\n",
    "<br>\n",
    "3\tcat\n",
    "<br>\n",
    "4\tdeer\n",
    "<br>\n",
    "5\tdog\n",
    "<br>\n",
    "6\tfrog\n",
    "<br>\n",
    "7\thorse\n",
    "<br>\n",
    "8\tship\n",
    "<br>\n",
    "9\ttruck\n",
    "<br>\n",
    "\n",
    "The Dataset has 50,000 Training images and 10,000 Test images\n",
    "<br>\n",
    "\n",
    "See more: https://keras.io/api/datasets/cifar10/"
   ]
  },
  {
   "cell_type": "code",
   "execution_count": 77,
   "id": "88e01ca1",
   "metadata": {},
   "outputs": [],
   "source": [
    "# Splitting Data\n",
    "(X_train, y_train), (X_test,y_test) = datasets.cifar10.load_data()\n"
   ]
  },
  {
   "cell_type": "code",
   "execution_count": 78,
   "id": "eb25c2ed",
   "metadata": {},
   "outputs": [
    {
     "data": {
      "text/plain": [
       "(50000, 32, 32, 3)"
      ]
     },
     "execution_count": 78,
     "metadata": {},
     "output_type": "execute_result"
    }
   ],
   "source": [
    "# Lets check the shape. Training data has 50,000 samples which are 50X50 pixels each and '3' means 'RGB' images. 'RGB' means that images are colored\n",
    "X_train.shape"
   ]
  },
  {
   "cell_type": "code",
   "execution_count": 79,
   "id": "8426aaf2",
   "metadata": {},
   "outputs": [
    {
     "data": {
      "image/png": "[encoded data removed]",
      "text/plain": [
       "<Figure size 432x288 with 1 Axes>"
      ]
     },
     "metadata": {
      "needs_background": "light"
     },
     "output_type": "display_data"
    }
   ],
   "source": [
    "# Lets view an image\n",
    "plt.imshow(X_train[0])\n",
    "plt.show()"
   ]
  },
  {
   "cell_type": "code",
   "execution_count": 80,
   "id": "6db0e473",
   "metadata": {},
   "outputs": [
    {
     "data": {
      "text/plain": [
       "array([[[ 59,  62,  63],\n",
       "        [ 43,  46,  45],\n",
       "        [ 50,  48,  43],\n",
       "        ...,\n",
       "        [158, 132, 108],\n",
       "        [152, 125, 102],\n",
       "        [148, 124, 103]],\n",
       "\n",
       "       [[ 16,  20,  20],\n",
       "        [  0,   0,   0],\n",
       "        [ 18,   8,   0],\n",
       "        ...,\n",
       "        [123,  88,  55],\n",
       "        [119,  83,  50],\n",
       "        [122,  87,  57]],\n",
       "\n",
       "       [[ 25,  24,  21],\n",
       "        [ 16,   7,   0],\n",
       "        [ 49,  27,   8],\n",
       "        ...,\n",
       "        [118,  84,  50],\n",
       "        [120,  84,  50],\n",
       "        [109,  73,  42]],\n",
       "\n",
       "       ...,\n",
       "\n",
       "       [[208, 170,  96],\n",
       "        [201, 153,  34],\n",
       "        [198, 161,  26],\n",
       "        ...,\n",
       "        [160, 133,  70],\n",
       "        [ 56,  31,   7],\n",
       "        [ 53,  34,  20]],\n",
       "\n",
       "       [[180, 139,  96],\n",
       "        [173, 123,  42],\n",
       "        [186, 144,  30],\n",
       "        ...,\n",
       "        [184, 148,  94],\n",
       "        [ 97,  62,  34],\n",
       "        [ 83,  53,  34]],\n",
       "\n",
       "       [[177, 144, 116],\n",
       "        [168, 129,  94],\n",
       "        [179, 142,  87],\n",
       "        ...,\n",
       "        [216, 184, 140],\n",
       "        [151, 118,  84],\n",
       "        [123,  92,  72]]], dtype=uint8)"
      ]
     },
     "execution_count": 80,
     "metadata": {},
     "output_type": "execute_result"
    }
   ],
   "source": [
    "# Lets see the values of an image\n",
    "X_train[0]"
   ]
  },
  {
   "cell_type": "code",
   "execution_count": 81,
   "id": "5bb47fa2",
   "metadata": {},
   "outputs": [],
   "source": [
    "# Notice the values of images ranges from(0-255). We have to normalize it so the model can process quickly.\n",
    "# Normalize train and test set by 255\n",
    "X_train=X_train/255\n",
    "X_test=X_test/255\n"
   ]
  },
  {
   "cell_type": "code",
   "execution_count": 82,
   "id": "a1fe894d",
   "metadata": {},
   "outputs": [
    {
     "data": {
      "text/plain": [
       "array([[[0.23137255, 0.24313725, 0.24705882],\n",
       "        [0.16862745, 0.18039216, 0.17647059],\n",
       "        [0.19607843, 0.18823529, 0.16862745],\n",
       "        ...,\n",
       "        [0.61960784, 0.51764706, 0.42352941],\n",
       "        [0.59607843, 0.49019608, 0.4       ],\n",
       "        [0.58039216, 0.48627451, 0.40392157]],\n",
       "\n",
       "       [[0.0627451 , 0.07843137, 0.07843137],\n",
       "        [0.        , 0.        , 0.        ],\n",
       "        [0.07058824, 0.03137255, 0.        ],\n",
       "        ...,\n",
       "        [0.48235294, 0.34509804, 0.21568627],\n",
       "        [0.46666667, 0.3254902 , 0.19607843],\n",
       "        [0.47843137, 0.34117647, 0.22352941]],\n",
       "\n",
       "       [[0.09803922, 0.09411765, 0.08235294],\n",
       "        [0.0627451 , 0.02745098, 0.        ],\n",
       "        [0.19215686, 0.10588235, 0.03137255],\n",
       "        ...,\n",
       "        [0.4627451 , 0.32941176, 0.19607843],\n",
       "        [0.47058824, 0.32941176, 0.19607843],\n",
       "        [0.42745098, 0.28627451, 0.16470588]],\n",
       "\n",
       "       ...,\n",
       "\n",
       "       [[0.81568627, 0.66666667, 0.37647059],\n",
       "        [0.78823529, 0.6       , 0.13333333],\n",
       "        [0.77647059, 0.63137255, 0.10196078],\n",
       "        ...,\n",
       "        [0.62745098, 0.52156863, 0.2745098 ],\n",
       "        [0.21960784, 0.12156863, 0.02745098],\n",
       "        [0.20784314, 0.13333333, 0.07843137]],\n",
       "\n",
       "       [[0.70588235, 0.54509804, 0.37647059],\n",
       "        [0.67843137, 0.48235294, 0.16470588],\n",
       "        [0.72941176, 0.56470588, 0.11764706],\n",
       "        ...,\n",
       "        [0.72156863, 0.58039216, 0.36862745],\n",
       "        [0.38039216, 0.24313725, 0.13333333],\n",
       "        [0.3254902 , 0.20784314, 0.13333333]],\n",
       "\n",
       "       [[0.69411765, 0.56470588, 0.45490196],\n",
       "        [0.65882353, 0.50588235, 0.36862745],\n",
       "        [0.70196078, 0.55686275, 0.34117647],\n",
       "        ...,\n",
       "        [0.84705882, 0.72156863, 0.54901961],\n",
       "        [0.59215686, 0.4627451 , 0.32941176],\n",
       "        [0.48235294, 0.36078431, 0.28235294]]])"
      ]
     },
     "execution_count": 82,
     "metadata": {},
     "output_type": "execute_result"
    }
   ],
   "source": [
    "# Now all values are in range (0,1)\n",
    "X_train[0]"
   ]
  },
  {
   "cell_type": "code",
   "execution_count": 83,
   "id": "72e4e190",
   "metadata": {},
   "outputs": [
    {
     "data": {
      "text/plain": [
       "array([[6],\n",
       "       [9],\n",
       "       [9],\n",
       "       ...,\n",
       "       [9],\n",
       "       [1],\n",
       "       [1]], dtype=uint8)"
      ]
     },
     "execution_count": 83,
     "metadata": {},
     "output_type": "execute_result"
    }
   ],
   "source": [
    "# Lets check Labels\n",
    "y_train"
   ]
  },
  {
   "cell_type": "code",
   "execution_count": 84,
   "id": "ec0b56ca",
   "metadata": {},
   "outputs": [],
   "source": [
    "# Convert labels from 2D to 1D\n",
    "y_train=y_train.reshape(-1,)\n",
    "y_test=y_test.reshape(-1,)"
   ]
  },
  {
   "cell_type": "code",
   "execution_count": 85,
   "id": "2d795c89",
   "metadata": {},
   "outputs": [],
   "source": [
    "# Split Training Data to training and validation by 80/20\n",
    "X_train, x_val, y_train, y_val = train_test_split(X_train, y_train, test_size=0.2)"
   ]
  },
  {
   "cell_type": "code",
   "execution_count": 86,
   "id": "0f13d262",
   "metadata": {},
   "outputs": [
    {
     "name": "stdout",
     "output_type": "stream",
     "text": [
      "Training shape  (40000, 32, 32, 3) (40000,)\n",
      "Validation shape  (10000, 32, 32, 3) (10000,)\n",
      "Testing shape  (10000, 32, 32, 3) (10000,)\n"
     ]
    }
   ],
   "source": [
    "# View shapes\n",
    "print(\"Training shape \", X_train.shape, y_train.shape)\n",
    "print(\"Validation shape \", x_val.shape, y_val.shape)\n",
    "print(\"Testing shape \", X_test.shape, y_test.shape)\n"
   ]
  },
  {
   "cell_type": "markdown",
   "id": "c9330fd7",
   "metadata": {},
   "source": [
    "LEts Build our CNN model\n",
    "<br>\n",
    "Filters --> Specify number of filters\n",
    "<br>\n",
    "Kernal_size --> Size of filters\n",
    "<br>\n",
    "input_shape --> The input we provide. In this case we are providing 32x32 pixel images "
   ]
  },
  {
   "cell_type": "code",
   "execution_count": 105,
   "id": "54245b18",
   "metadata": {},
   "outputs": [],
   "source": [
    "\n",
    "model=Sequential()\n",
    "model.add(Conv2D(filters=64, kernel_size=(3,3), activation='relu', input_shape=(32,32,3)))\n",
    "model.add(MaxPooling2D()) \n",
    "\n",
    "model.add(Conv2D(filters=16, kernel_size=(3,3), activation='relu'))\n",
    "model.add(MaxPooling2D())\n",
    "\n",
    "model.add(Conv2D(filters=32, kernel_size=(3,3), activation='relu'))\n",
    "model.add(MaxPooling2D())\n",
    "\n",
    "model.add(Flatten()) # flatten converts multidimensional data to 1 D compatible for further Dense layers\n",
    "model.add(Dense(256, activation='relu'))\n",
    "\n",
    "# Softmax used for 10 different classes. Softmax produces the output as probability distribution\n",
    "model.add(Dense(10, activation='softmax'))"
   ]
  },
  {
   "cell_type": "code",
   "execution_count": 106,
   "id": "7eaee065",
   "metadata": {},
   "outputs": [],
   "source": [
    "model.compile(optimizer='adam',\n",
    "              loss='sparse_categorical_crossentropy',\n",
    "              metrics=['accuracy'])"
   ]
  },
  {
   "cell_type": "code",
   "execution_count": 107,
   "id": "212d1fdc",
   "metadata": {},
   "outputs": [
    {
     "name": "stdout",
     "output_type": "stream",
     "text": [
      "Model: \"sequential_3\"\n",
      "_________________________________________________________________\n",
      " Layer (type)                Output Shape              Param #   \n",
      "=================================================================\n",
      " conv2d_6 (Conv2D)           (None, 30, 30, 64)        1792      \n",
      "                                                                 \n",
      " max_pooling2d_6 (MaxPooling  (None, 15, 15, 64)       0         \n",
      " 2D)                                                             \n",
      "                                                                 \n",
      " conv2d_7 (Conv2D)           (None, 13, 13, 16)        9232      \n",
      "                                                                 \n",
      " max_pooling2d_7 (MaxPooling  (None, 6, 6, 16)         0         \n",
      " 2D)                                                             \n",
      "                                                                 \n",
      " conv2d_8 (Conv2D)           (None, 4, 4, 32)          4640      \n",
      "                                                                 \n",
      " max_pooling2d_8 (MaxPooling  (None, 2, 2, 32)         0         \n",
      " 2D)                                                             \n",
      "                                                                 \n",
      " flatten_2 (Flatten)         (None, 128)               0         \n",
      "                                                                 \n",
      " dense_4 (Dense)             (None, 256)               33024     \n",
      "                                                                 \n",
      " dense_5 (Dense)             (None, 10)                2570      \n",
      "                                                                 \n",
      "=================================================================\n",
      "Total params: 51,258\n",
      "Trainable params: 51,258\n",
      "Non-trainable params: 0\n",
      "_________________________________________________________________\n"
     ]
    }
   ],
   "source": [
    "model.summary()"
   ]
  },
  {
   "cell_type": "markdown",
   "id": "2ce01ca0",
   "metadata": {},
   "source": [
    "Training"
   ]
  },
  {
   "cell_type": "code",
   "execution_count": 108,
   "id": "688f5779",
   "metadata": {},
   "outputs": [
    {
     "name": "stdout",
     "output_type": "stream",
     "text": [
      "Epoch 1/20\n",
      "1250/1250 [==============================] - 33s 26ms/step - loss: 1.6461 - accuracy: 0.3948 - val_loss: 1.3975 - val_accuracy: 0.4866\n",
      "Epoch 2/20\n",
      "1250/1250 [==============================] - 32s 25ms/step - loss: 1.3242 - accuracy: 0.5260 - val_loss: 1.2869 - val_accuracy: 0.5421\n",
      "Epoch 3/20\n",
      "1250/1250 [==============================] - 32s 26ms/step - loss: 1.2058 - accuracy: 0.5729 - val_loss: 1.2073 - val_accuracy: 0.5775\n",
      "Epoch 4/20\n",
      "1250/1250 [==============================] - 35s 28ms/step - loss: 1.1309 - accuracy: 0.5996 - val_loss: 1.2060 - val_accuracy: 0.5768\n",
      "Epoch 5/20\n",
      "1250/1250 [==============================] - 33s 27ms/step - loss: 1.0714 - accuracy: 0.6220 - val_loss: 1.1234 - val_accuracy: 0.6004\n",
      "Epoch 6/20\n",
      "1250/1250 [==============================] - 34s 27ms/step - loss: 1.0116 - accuracy: 0.6434 - val_loss: 1.1064 - val_accuracy: 0.6127\n",
      "Epoch 7/20\n",
      "1250/1250 [==============================] - 34s 27ms/step - loss: 0.9694 - accuracy: 0.6558 - val_loss: 1.0940 - val_accuracy: 0.6146\n",
      "Epoch 8/20\n",
      "1250/1250 [==============================] - 34s 27ms/step - loss: 0.9307 - accuracy: 0.6690 - val_loss: 1.0967 - val_accuracy: 0.6239\n",
      "Epoch 9/20\n",
      "1250/1250 [==============================] - 35s 28ms/step - loss: 0.8932 - accuracy: 0.6865 - val_loss: 1.0164 - val_accuracy: 0.6442\n",
      "Epoch 10/20\n",
      "1250/1250 [==============================] - 35s 28ms/step - loss: 0.8534 - accuracy: 0.6985 - val_loss: 1.0464 - val_accuracy: 0.6436\n",
      "Epoch 11/20\n",
      "1250/1250 [==============================] - 35s 28ms/step - loss: 0.8248 - accuracy: 0.7090 - val_loss: 1.0470 - val_accuracy: 0.6449\n",
      "Epoch 12/20\n",
      "1250/1250 [==============================] - 35s 28ms/step - loss: 0.7904 - accuracy: 0.7218 - val_loss: 0.9766 - val_accuracy: 0.6669\n",
      "Epoch 13/20\n",
      "1250/1250 [==============================] - 35s 28ms/step - loss: 0.7601 - accuracy: 0.7308 - val_loss: 0.9960 - val_accuracy: 0.6649\n",
      "Epoch 14/20\n",
      "1250/1250 [==============================] - 35s 28ms/step - loss: 0.7402 - accuracy: 0.7391 - val_loss: 1.0079 - val_accuracy: 0.6571\n",
      "Epoch 15/20\n",
      "1250/1250 [==============================] - 34s 27ms/step - loss: 0.7147 - accuracy: 0.7466 - val_loss: 1.0002 - val_accuracy: 0.6612\n",
      "Epoch 16/20\n",
      "1250/1250 [==============================] - 35s 28ms/step - loss: 0.6865 - accuracy: 0.7545 - val_loss: 1.0452 - val_accuracy: 0.6564\n",
      "Epoch 17/20\n",
      "1250/1250 [==============================] - 36s 29ms/step - loss: 0.6748 - accuracy: 0.7590 - val_loss: 1.0333 - val_accuracy: 0.6660\n",
      "Epoch 18/20\n",
      "1250/1250 [==============================] - 36s 29ms/step - loss: 0.6471 - accuracy: 0.7689 - val_loss: 1.0026 - val_accuracy: 0.6709\n",
      "Epoch 19/20\n",
      "1250/1250 [==============================] - 35s 28ms/step - loss: 0.6263 - accuracy: 0.7778 - val_loss: 1.0417 - val_accuracy: 0.6646\n",
      "Epoch 20/20\n",
      "1250/1250 [==============================] - 36s 29ms/step - loss: 0.6107 - accuracy: 0.7825 - val_loss: 1.0581 - val_accuracy: 0.6567\n"
     ]
    }
   ],
   "source": [
    "history = model.fit(X_train,y_train, epochs=20, validation_data=(x_val,y_val))\n"
   ]
  },
  {
   "cell_type": "markdown",
   "id": "55f30777",
   "metadata": {},
   "source": [
    "Plotting the training and validation accuracy"
   ]
  },
  {
   "cell_type": "code",
   "execution_count": 109,
   "id": "e619af60",
   "metadata": {},
   "outputs": [
    {
     "data": {
      "image/png": "[encoded data removed]",
      "text/plain": [
       "<Figure size 432x288 with 1 Axes>"
      ]
     },
     "metadata": {
      "needs_background": "light"
     },
     "output_type": "display_data"
    }
   ],
   "source": [
    "fig = plt.figure()\n",
    "plt.plot(history.history['accuracy'], color='teal', label='accuracy')\n",
    "plt.plot(history.history['val_accuracy'], color='orange', label='val_accuracy')\n",
    "fig.suptitle('Accuracy', fontsize=20)\n",
    "plt.legend(loc=\"upper left\")\n",
    "plt.show()"
   ]
  },
  {
   "cell_type": "code",
   "execution_count": 110,
   "id": "f0e193b1",
   "metadata": {},
   "outputs": [
    {
     "name": "stdout",
     "output_type": "stream",
     "text": [
      "313/313 [==============================] - 2s 7ms/step - loss: 1.0448 - accuracy: 0.6628\n"
     ]
    },
    {
     "data": {
      "text/plain": [
       "[1.0448330640792847, 0.6628000140190125]"
      ]
     },
     "execution_count": 110,
     "metadata": {},
     "output_type": "execute_result"
    }
   ],
   "source": [
    "# Accuracy can be increased if we increase EPOCHS in training. We achieve 66% accuracy in these settings\n",
    "model.evaluate(X_test,y_test)"
   ]
  },
  {
   "cell_type": "code",
   "execution_count": 111,
   "id": "4188ee0c",
   "metadata": {},
   "outputs": [
    {
     "name": "stdout",
     "output_type": "stream",
     "text": [
      "313/313 [==============================] - 2s 7ms/step\n"
     ]
    },
    {
     "data": {
      "text/plain": [
       "<Axes: >"
      ]
     },
     "execution_count": 111,
     "metadata": {},
     "output_type": "execute_result"
    },
    {
     "data": {
      "image/png": "[encoded data removed]",
      "text/plain": [
       "<Figure size 432x288 with 2 Axes>"
      ]
     },
     "metadata": {
      "needs_background": "light"
     },
     "output_type": "display_data"
    }
   ],
   "source": [
    "# Displaying Confusion Matrix\n",
    "\n",
    "y_pred = model.predict(X_test)\n",
    "y_pred=[np.argmax(i) for i in y_pred]\n",
    "cf_matrix = confusion_matrix(y_test, y_pred)\n",
    "sns.heatmap(cf_matrix, annot=True)"
   ]
  },
  {
   "cell_type": "code",
   "execution_count": null,
   "id": "e19056c5",
   "metadata": {},
   "outputs": [],
   "source": []
  }
 ],
 "metadata": {
  "kernelspec": {
   "display_name": "Python 3 (ipykernel)",
   "language": "python",
   "name": "python3"
  },
  "language_info": {
   "codemirror_mode": {
    "name": "ipython",
    "version": 3
   },
   "file_extension": ".py",
   "mimetype": "text/x-python",
   "name": "python",
   "nbconvert_exporter": "python",
   "pygments_lexer": "ipython3",
   "version": "3.9.12"
  }
 },
 "nbformat": 4,
 "nbformat_minor": 5
}
